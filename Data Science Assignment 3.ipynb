{
 "cells": [
  {
   "cell_type": "markdown",
   "metadata": {},
   "source": [
    "### LAB ASSIGNMENT 3 UCS538 DATA SCIENCE"
   ]
  },
  {
   "cell_type": "markdown",
   "metadata": {},
   "source": [
    "<b>Question 1 : Extract all odd and even numbers from the given array into two separate arrays.\n",
    "Also update the given array by 0 at the place of even number.</b>\n"
   ]
  },
  {
   "cell_type": "code",
   "execution_count": 1,
   "metadata": {},
   "outputs": [],
   "source": [
    "import numpy as np\n",
    "import array"
   ]
  },
  {
   "cell_type": "code",
   "execution_count": 2,
   "metadata": {},
   "outputs": [
    {
     "name": "stdout",
     "output_type": "stream",
     "text": [
      "[11 12 14 13 15 17 19]\n",
      "[11. 13. 15. 17. 19.]\n",
      "[12. 14.]\n",
      "[11  0  0 13 15 17 19]\n"
     ]
    }
   ],
   "source": [
    "# arr = np.arange(10)\n",
    "arr = np.array([11,12,14, 13,15, 17, 19])\n",
    "even_arr = np.array([])\n",
    "odd_arr = np.array([])\n",
    "for i in arr:\n",
    "    if(i%2==0):\n",
    "        even_arr= np.append(even_arr,i)\n",
    "    else:\n",
    "        odd_arr= np.append(odd_arr,i)\n",
    "        \n",
    "x = np.where(arr % 2 == 1, arr, 0)\n",
    "\n",
    "\n",
    "print(arr)\n",
    "print(odd_arr)\n",
    "print(even_arr)\n",
    "print(x)"
   ]
  },
  {
   "cell_type": "markdown",
   "metadata": {},
   "source": [
    "<b>Question 2 : Replace all odd numbers in the given array with ‘odd’ without changing original\n",
    "array</b>"
   ]
  },
  {
   "cell_type": "code",
   "execution_count": 3,
   "metadata": {},
   "outputs": [
    {
     "name": "stdout",
     "output_type": "stream",
     "text": [
      "['odd' '12' '14' 'odd' 'odd' 'odd' 'odd']\n"
     ]
    }
   ],
   "source": [
    "arr = np.where(arr % 2 == 1, 'odd', arr)\n",
    "print(arr)"
   ]
  },
  {
   "cell_type": "markdown",
   "metadata": {},
   "source": [
    "<b>Question 3 : Create the following pattern using numpy inbuilt function having input array\n",
    "a = 'How','Are','You'<br>output:\n",
    "['How', 'How', 'How', 'Are', 'Are', 'Are', 'You', 'You', 'You',\n",
    " 'How', 'Are', 'You', 'How', 'Are', 'You', 'How', 'Are', 'You']</b>"
   ]
  },
  {
   "cell_type": "code",
   "execution_count": 4,
   "metadata": {},
   "outputs": [
    {
     "name": "stdout",
     "output_type": "stream",
     "text": [
      "['How' 'How' 'How' 'are' 'are' 'are' 'you' 'you' 'you' 'How' 'are' 'you'\n",
      " 'How' 'are' 'you' 'How' 'are' 'you']\n"
     ]
    }
   ],
   "source": [
    "a = ['How', 'are', 'you']\n",
    "\n",
    "x = np.array(a)\n",
    "print(np.concatenate([np.repeat(x, 3), np.tile(x, 3)]))"
   ]
  },
  {
   "cell_type": "markdown",
   "metadata": {},
   "source": [
    "<b>Question 4: Consider the two arrays having input as alphabet, extract the common alphabet\n",
    "elements from the given two arrays.</b>"
   ]
  },
  {
   "cell_type": "code",
   "execution_count": 5,
   "metadata": {},
   "outputs": [
    {
     "name": "stdout",
     "output_type": "stream",
     "text": [
      "['c']\n"
     ]
    }
   ],
   "source": [
    "a = np.array(['a', 'b', 'c'])\n",
    "b = np.array(['c', 'd', 'e'])\n",
    "\n",
    "print(np.intersect1d(a, b))"
   ]
  },
  {
   "cell_type": "markdown",
   "metadata": {},
   "source": [
    "<b>Question 5: Write a python code to swap the last two columns of the given array also swap two\n",
    "rows of the given array</b>"
   ]
  },
  {
   "cell_type": "code",
   "execution_count": 6,
   "metadata": {},
   "outputs": [
    {
     "name": "stdout",
     "output_type": "stream",
     "text": [
      "[[ 0  1  2  3  4]\n",
      " [ 5  6  7  8  9]\n",
      " [10 11 12 13 14]\n",
      " [15 16 17 18 19]\n",
      " [20 21 22 23 24]]\n",
      "\n",
      "[[ 0  1  2  4  3]\n",
      " [ 5  6  7  9  8]\n",
      " [10 11 12 14 13]\n",
      " [15 16 17 19 18]\n",
      " [20 21 22 24 23]]\n",
      "\n",
      "[[ 0  1  2  4  3]\n",
      " [ 5  6  7  9  8]\n",
      " [10 11 12 14 13]\n",
      " [20 21 22 24 23]\n",
      " [15 16 17 19 18]]\n"
     ]
    }
   ],
   "source": [
    "a = np.arange(25).reshape(5, 5)\n",
    "print(a)\n",
    "print()\n",
    "#columns\n",
    "temp = a[:, -1].copy()\n",
    "a[:, -1] = a[:, -2]\n",
    "a[:, -2] = temp\n",
    "print(a)\n",
    "#rows\n",
    "temp = a[-1, :].copy()\n",
    "a[-1, :] = a[-2, :]\n",
    "a[-2, :] = temp\n",
    "\n",
    "print()\n",
    "print(a)"
   ]
  },
  {
   "cell_type": "markdown",
   "metadata": {},
   "source": [
    "<b>Question 6: Create 2D array of shape 5x3 to contain random decimal numbers between 6 and\n",
    "12</b>"
   ]
  },
  {
   "cell_type": "code",
   "execution_count": 7,
   "metadata": {
    "scrolled": true
   },
   "outputs": [
    {
     "data": {
      "text/plain": [
       "array([[ 7.23353884,  9.88482043,  9.43856348],\n",
       "       [ 7.97590405,  7.14289564,  8.35494796],\n",
       "       [ 7.76187988,  8.33755438,  8.48682349],\n",
       "       [ 9.42078494,  9.07514188,  6.30762379],\n",
       "       [11.90944233, 10.29751765,  6.62450755]])"
      ]
     },
     "execution_count": 7,
     "metadata": {},
     "output_type": "execute_result"
    }
   ],
   "source": [
    "np.random.uniform(6, 12, size = (5, 3))"
   ]
  },
  {
   "cell_type": "markdown",
   "metadata": {},
   "source": [
    "<b>Question 7: Write a code to print random numbers upto 2 decimal places of numpy array</b>"
   ]
  },
  {
   "cell_type": "code",
   "execution_count": 8,
   "metadata": {},
   "outputs": [
    {
     "data": {
      "text/plain": [
       "array([ 1.  ,  1.47,  1.95,  2.42,  2.89,  3.37,  3.84,  4.32,  4.79,\n",
       "        5.26,  5.74,  6.21,  6.68,  7.16,  7.63,  8.11,  8.58,  9.05,\n",
       "        9.53, 10.  ])"
      ]
     },
     "execution_count": 8,
     "metadata": {},
     "output_type": "execute_result"
    }
   ],
   "source": [
    "np.linspace(1, 10, 20).round(2)"
   ]
  },
  {
   "cell_type": "markdown",
   "metadata": {},
   "source": [
    "<b>Question 8: Convert the 1D IRIS to 2D array iris_2d by omitting the species text field.<br>\n",
    "url = 'https://archive.ics.uci.edu/ml/machine-learning-databases/iris/iris.data'</b>"
   ]
  },
  {
   "cell_type": "code",
   "execution_count": null,
   "metadata": {},
   "outputs": [],
   "source": []
  },
  {
   "cell_type": "markdown",
   "metadata": {},
   "source": [
    "<b>Find the mean, median, standard deviation of iris's sepallength. [use above link]</b>"
   ]
  },
  {
   "cell_type": "code",
   "execution_count": null,
   "metadata": {},
   "outputs": [],
   "source": []
  }
 ],
 "metadata": {
  "kernelspec": {
   "display_name": "Python 3",
   "language": "python",
   "name": "python3"
  },
  "language_info": {
   "codemirror_mode": {
    "name": "ipython",
    "version": 3
   },
   "file_extension": ".py",
   "mimetype": "text/x-python",
   "name": "python",
   "nbconvert_exporter": "python",
   "pygments_lexer": "ipython3",
   "version": "3.7.6"
  }
 },
 "nbformat": 4,
 "nbformat_minor": 4
}
