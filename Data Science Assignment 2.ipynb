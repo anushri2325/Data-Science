{
 "cells": [
  {
   "cell_type": "markdown",
   "metadata": {},
   "source": [
    "### LAB ASSIGNMENT 2 UCS538 DATA SCIENCE"
   ]
  },
  {
   "cell_type": "markdown",
   "metadata": {},
   "source": [
    "<b>Question 1 : There is the requirement to develop an information System for the employees working\n",
    "in an organization, having the following<br>\n",
    "<br>(i) Create a class Emp that includes attributes: EmpId, EmpName, Points, Group,\n",
    "and Average Points.<br>\n",
    "(ii) Include a constructor with the option that if Empid and EmpName are given\n",
    "by the user, use this data to initialize the Object, otherwise initialize with\n",
    "default values of EmpId and EmpName.<br>\n",
    "(iii) Include a method addPoints to add points to the values of Points of the\n",
    "employee.<br>\n",
    "(iv) Include a method removePoints to remove points from the values of Points of\n",
    "the employee. If the resultant value is negative then the value of the Points\n",
    "attribute should be set to zero.<br>\n",
    "(v) Include a method computeGroup to assign a value to the Group attribute using\n",
    "the following rules:<br>\n",
    "Silver: if points<=100<br>\n",
    "Gold: points >100 and <=500<br>\n",
    "Platinum: points >500 and <=1000<br>\n",
    "Diamond : points >1000<br>\n",
    "(vi) Include a method to print the list of Employee of a particular group.<br>\n",
    "(vii) Include a method to print the attributes of the employee.<br></b>"
   ]
  },
  {
   "cell_type": "code",
   "execution_count": 1,
   "metadata": {},
   "outputs": [],
   "source": [
    "class Emp:\n",
    "    def __init__(self,Points,Group,AveragePoints,EmpId=123,EmpName=\"Anushri\"):\n",
    "        self.EmpId=EmpId\n",
    "        self.EmpName=EmpName\n",
    "        self.Points=Points\n",
    "        self.Group=Group\n",
    "        self.AveragePoints=AveragePoints \n",
    "        \n",
    "    def addPoints(self,value):\n",
    "        self.Points=self.Points+value\n",
    "        \n",
    "    def removePoints(self,value):\n",
    "        self.Points=self.Points-value\n",
    "        self.points = max(0, self.points)\n",
    "        \n",
    "    def computeGroups(self):\n",
    "        if(self.Points<=100):\n",
    "            self.Group='Silver'\n",
    "        elif(self.Points<=500):\n",
    "            self.Group='Gold'\n",
    "        elif(self.Points<=1000):\n",
    "            self.Group='Platinum'\n",
    "        else:\n",
    "            self.Group='Diamond'\n",
    "            \n",
    "    def Info(self):\n",
    "        print('EmpId : {}'.format(self.EmpId) )\n",
    "        print('EmpName : ' + self.EmpName)\n",
    "        print('Points: {}'.format(self.Points))\n",
    "        print('Group: ' + self.Group)\n",
    "        "
   ]
  },
  {
   "cell_type": "code",
   "execution_count": 2,
   "metadata": {},
   "outputs": [],
   "source": [
    "e1=Emp(20,'Silver',30)"
   ]
  },
  {
   "cell_type": "code",
   "execution_count": 3,
   "metadata": {},
   "outputs": [
    {
     "name": "stdout",
     "output_type": "stream",
     "text": [
      "EmpId : 123\n",
      "EmpName : Anushri\n",
      "Points: 20\n",
      "Group: Silver\n"
     ]
    }
   ],
   "source": [
    "e1.Info()"
   ]
  },
  {
   "cell_type": "code",
   "execution_count": 4,
   "metadata": {},
   "outputs": [],
   "source": [
    "e1.addPoints(1000)\n",
    "e1.computeGroups()"
   ]
  },
  {
   "cell_type": "code",
   "execution_count": 5,
   "metadata": {},
   "outputs": [
    {
     "name": "stdout",
     "output_type": "stream",
     "text": [
      "EmpId : 123\n",
      "EmpName : Anushri\n",
      "Points: 1020\n",
      "Group: Diamond\n"
     ]
    }
   ],
   "source": [
    "e1.Info()"
   ]
  },
  {
   "cell_type": "markdown",
   "metadata": {},
   "source": [
    "<b>Question 2</b>"
   ]
  },
  {
   "cell_type": "code",
   "execution_count": 6,
   "metadata": {},
   "outputs": [],
   "source": [
    "from enum import Enum\n",
    "from dataclasses import dataclass\n",
    "\n",
    "class Garage(Enum):\n",
    "    attached = 2\n",
    "    detached = 1\n",
    "    none = 0\n",
    "\n",
    "\n",
    "class Laundary(Enum):\n",
    "    en_suite = 0\n",
    "    coin = 1\n",
    "    off_site = 2\n",
    "\n",
    "@dataclass\n",
    "class Property:\n",
    "    bedrooms: int\n",
    "    bathrooms: int\n",
    "    sq_foot: int\n",
    "\n",
    "#inheritance\n",
    "@dataclass\n",
    "class House(Property):\n",
    "    garage: Garage\n",
    "    yard_fenced: bool\n",
    "    storey: int\n",
    "\n",
    "@dataclass\n",
    "class Apartment(Property):\n",
    "    balcony: bool\n",
    "    laundary: Laundary\n",
    "\n",
    "@dataclass\n",
    "class Rental:\n",
    "    rent: int\n",
    "    furnished: bool\n",
    "    utility: bool\n",
    "    estimated_utility_price: int\n",
    "\n",
    "@dataclass\n",
    "class Purchase:\n",
    "    price: int\n",
    "    taxes: int\n",
    "        \n",
    "#4 choices - Rental Apartment,Purchasable Apartment , Rental House, Purchasable House\n",
    "@dataclass\n",
    "class RentalApartment(Apartment, Rental):\n",
    "    pass\n",
    "\n",
    "\n",
    "@dataclass\n",
    "class PurchasableApartment(Apartment, Purchase):\n",
    "    pass\n",
    "\n",
    "\n",
    "@dataclass\n",
    "class RentalHouse(House, Rental):\n",
    "    pass\n",
    "\n",
    "\n",
    "@dataclass\n",
    "class PurchasableHouse(House, Purchase):\n",
    "    pass\n",
    "\n",
    "class PropertyType(Enum):\n",
    "    house_purchasable = PurchasableHouse\n",
    "    house_rental = RentalHouse\n",
    "    apartment_purchasable = PurchasableApartment\n",
    "    apartment_rental = RentalApartment\n"
   ]
  },
  {
   "cell_type": "code",
   "execution_count": null,
   "metadata": {},
   "outputs": [],
   "source": []
  }
 ],
 "metadata": {
  "kernelspec": {
   "display_name": "Python 3",
   "language": "python",
   "name": "python3"
  },
  "language_info": {
   "codemirror_mode": {
    "name": "ipython",
    "version": 3
   },
   "file_extension": ".py",
   "mimetype": "text/x-python",
   "name": "python",
   "nbconvert_exporter": "python",
   "pygments_lexer": "ipython3",
   "version": "3.7.6"
  }
 },
 "nbformat": 4,
 "nbformat_minor": 4
}
