{
 "cells": [
  {
   "cell_type": "markdown",
   "metadata": {},
   "source": [
    "###                                                 LAB ASSIGNMENT 1 UCS538 DATA SCIENCE"
   ]
  },
  {
   "cell_type": "markdown",
   "metadata": {},
   "source": [
    "<b>Question 1 : Write a program that displays options for inserting or deleting elements in a list. If the\n",
    "user chooses a deletion option display a submenu and ask if element is to be deleted with\n",
    "value or by using its position or list slice to be deleted.</b>"
   ]
  },
  {
   "cell_type": "code",
   "execution_count": 1,
   "metadata": {},
   "outputs": [
    {
     "name": "stdout",
     "output_type": "stream",
     "text": [
      "[1, 2, 3, 4, 5, 6, 7, 8]\n",
      "Choose from the following: \n",
      " 1.Insert an element \n",
      " 2.Delete an element \n",
      "Enter the number2\n",
      " 1. Delete by value \n",
      " 2.Delete by position \n",
      " 3.List slicing\n",
      "Enter the number 2\n",
      "Enter the index you want to delete 5\n",
      "[1, 2, 3, 4, 5, 7, 8]\n"
     ]
    }
   ],
   "source": [
    "list = [1,2,3,4,5,6,7,8]\n",
    "print(list)\n",
    "print('Choose from the following: \\n 1.Insert an element \\n 2.Delete an element ')\n",
    "num=int(input('Enter the number'))\n",
    "if(num==1):\n",
    "    num1=int(input('Enter number you want to append : '))\n",
    "    list.append(num1)\n",
    "    print(list)\n",
    "if(num==2):\n",
    "    print(' 1. Delete by value \\n 2.Delete by position \\n 3.List slicing')\n",
    "    n=int(input('Enter the number '))\n",
    "    if(n==1):\n",
    "        num2=int(input(\"Enter the value you want to delete \"))\n",
    "        list.remove(num2)\n",
    "        print(list)\n",
    "    elif(n==2):\n",
    "        num3=int(input(\"Enter the index you want to delete \"))\n",
    "        list.pop(num3)\n",
    "        print(list)\n",
    "    elif(n==3):\n",
    "        num4 = int(input(\"Enter the starting index from where you want to slice \"))\n",
    "        num5 = int(input(\"Enter the ending index till where you want to slice \"))        \n",
    "        list=list[num4:num5]\n",
    "        print(list)\n",
    "    else:\n",
    "        print('Enter valid number ')"
   ]
  },
  {
   "cell_type": "markdown",
   "metadata": {},
   "source": [
    "\n",
    "<b>Question 2 : Write a program that asks the user to input a number a list to be appended to an existing\n",
    "list. Whether the user enters a single number or a list of numbers, the program should\n",
    "append the list accordingly.</b>"
   ]
  },
  {
   "cell_type": "code",
   "execution_count": 2,
   "metadata": {},
   "outputs": [
    {
     "name": "stdout",
     "output_type": "stream",
     "text": [
      "Enter: [8,9,10]\n",
      "[1, 2, 3, 4, 5, 6, 7, 8, 9, 10]\n"
     ]
    }
   ],
   "source": [
    "list = [1,2,3,4,5,6,7] \n",
    "# number of elements as input\n",
    "n = eval(input(\"Enter: \"))\n",
    " \n",
    "# iterating till the range\n",
    "if type(n)==type(1):\n",
    "    list.append(n)\n",
    "    print(list)\n",
    "elif type(n)==type([ ]):\n",
    "    list.extend(n)\n",
    "    print(list)\n",
    "else:\n",
    "    print(\"Invalid\")"
   ]
  },
  {
   "cell_type": "markdown",
   "metadata": {},
   "source": [
    "\n",
    "<b>Question 3 : Write a program to input a tuple and create two new tuples from it, one containing its\n",
    "every 3rd element in the reverse order, starting from the last element and another\n",
    "containing every alternate elements lying between 3rd to 9th elements.</b>"
   ]
  },
  {
   "cell_type": "code",
   "execution_count": 3,
   "metadata": {},
   "outputs": [
    {
     "name": "stdout",
     "output_type": "stream",
     "text": [
      "enter tuple elements(1,2,3,4,5,6,7,8,9,10)\n",
      "(1, 2, 3, 4, 5, 6, 7, 8, 9, 10)\n",
      "List of every 3rd element in reverse order: \n",
      "(10, 7, 4, 1)\n",
      "List of every alternate elements lying between 3rd to 9th element\n",
      "(4, 6, 8)\n"
     ]
    }
   ],
   "source": [
    "tuple1 = eval(input(\"enter tuple elements\"))\n",
    "print(tuple1)\n",
    "n=len(tuple1)\n",
    "list = tuple1[::-3]\n",
    "print('List of every 3rd element in reverse order: ')\n",
    "print(list)\n",
    "list1 = tuple1[3:9:2]\n",
    "print('List of every alternate elements lying between 3rd to 9th element')\n",
    "print(list1)"
   ]
  },
  {
   "cell_type": "markdown",
   "metadata": {},
   "source": [
    "\n",
    "<b>Question 4 : Write a program to read email IDs of n number of students and store them in a tuple.\n",
    "Create two new tuples- first to store only the user names from the email IDs and second\n",
    "to store domain names from the email ids. Print all three tuples at the end of the\n",
    "program.</b>"
   ]
  },
  {
   "cell_type": "code",
   "execution_count": 4,
   "metadata": {},
   "outputs": [
    {
     "name": "stdout",
     "output_type": "stream",
     "text": [
      "Enter no. of emails you want to enter : 2\n",
      "anushri2325@gmail\n",
      "ajain4_be19@thapar.edu\n",
      "('anushri2325@gmail', 'ajain4_be19@thapar.edu')\n",
      "('anushri2325', 'ajain4_be19')\n",
      "('gmail', 'thapar.edu')\n"
     ]
    }
   ],
   "source": [
    "user_names=[]\n",
    "domain_names=[]\n",
    "emails=[]\n",
    "n=int(input(\"Enter no. of emails you want to enter : \"))\n",
    "for i in range(n):\n",
    "    s=input()\n",
    "    emails.append(s)\n",
    "for i in range(n) :\n",
    "    x,y=emails[i].split(\"@\")\n",
    "    user_names.append(x)\n",
    "    domain_names.append(y)\n",
    "emails=tuple(emails)\n",
    "user_names=tuple(user_names)\n",
    "domain_names=tuple(domain_names)\n",
    "\n",
    "print(emails)\n",
    "print(user_names)\n",
    "print(domain_names)"
   ]
  },
  {
   "cell_type": "markdown",
   "metadata": {},
   "source": [
    "\n",
    "<b>Question 5 : Write a program to create a dictionary containing names of the winner players as keys\n",
    "and number of their wins (medals) as values.</b>"
   ]
  },
  {
   "cell_type": "code",
   "execution_count": 5,
   "metadata": {},
   "outputs": [
    {
     "name": "stdout",
     "output_type": "stream",
     "text": [
      "enter no. of players3\n",
      "Enter in the format NAME,NUMBER OF WINS\n",
      "Anu,10\n",
      "Ria,9\n",
      "Devansh,8\n",
      "{'Anu': '10', 'Ria': '9', 'Devansh': '8'}\n"
     ]
    }
   ],
   "source": [
    "mydict={}\n",
    "n=int(input(\"enter no. of players\"))\n",
    "print('Enter in the format NAME,NUMBER OF WINS')\n",
    "for i in range(n):\n",
    "    key,value=input().split(\",\")\n",
    "    mydict[key]=value\n",
    "print(mydict)"
   ]
  },
  {
   "cell_type": "markdown",
   "metadata": {},
   "source": [
    "\n",
    "<b>Question 6 : You have a dictionary of following type\n",
    "dict1 = {0:'Zero',1:'One',2:'Two',3:'Three'}\n",
    "Write a program that takes a value and checks whether the given value is part of given\n",
    "dictionary or not. If it is, it should print the corresponding key otherwise print the error\n",
    "message.</b>"
   ]
  },
  {
   "cell_type": "code",
   "execution_count": 6,
   "metadata": {},
   "outputs": [
    {
     "name": "stdout",
     "output_type": "stream",
     "text": [
      "Enter the value to check: three\n",
      "3\n"
     ]
    }
   ],
   "source": [
    "dict1 = {0:'Zero',1:'One',2:'Two',3:'Three'}\n",
    "\n",
    "def checkval(value,dict):\n",
    "    for x,y in dict.items():\n",
    "        if(y.lower()==value):\n",
    "            print(x)\n",
    "\n",
    "value = input('Enter the value to check: ')\n",
    "value = value.lower()\n",
    "checkval(value,dict1)"
   ]
  },
  {
   "cell_type": "markdown",
   "metadata": {},
   "source": [
    "\n",
    "<b>Question 7 : Write a program to create a dictionary with the roll number, name and marks of n\n",
    "students in a class and displays the names of the students who have marks above 75</b>"
   ]
  },
  {
   "cell_type": "code",
   "execution_count": 10,
   "metadata": {},
   "outputs": [
    {
     "name": "stdout",
     "output_type": "stream",
     "text": [
      "Enter number of students: 2\n",
      "Enter Details of student No. 1\n",
      "Roll No: 1\n",
      "Name: Anushri\n",
      "Marks: 90\n",
      "Enter Details of student No. 2\n",
      "Roll No: 2\n",
      "Name: Devansh\n",
      "Marks: 75\n",
      "{1: ['Anushri', 90], 2: ['Devansh', 75]}\n",
      "Students with score above than 75 are :\n",
      "Anushri\n"
     ]
    }
   ],
   "source": [
    "n = int(input(\"Enter number of students: \"))  \n",
    "students = {}  \n",
    "for i in range(n):\n",
    "   print(\"Enter Details of student No.\", i+1)\n",
    "   rno = int(input(\"Roll No: \")) \n",
    "   name = input(\"Name: \") \n",
    "   marks = int(input(\"Marks: \"))\n",
    "   students[rno] = [name, marks]    \n",
    "\n",
    "print(students)  \n",
    "print('Students with score above than 75 are :')\n",
    "for i in students:\n",
    "   if students[i][1] > 75:\n",
    "       print(students[i][0])  "
   ]
  },
  {
   "cell_type": "markdown",
   "metadata": {},
   "source": [
    "\n",
    "<b>Question 8 : Write a program to read a sentence and then create a dictionary contains the frequency of\n",
    "letters and digits in the sentence. Ignore other symbols, if any.</b>"
   ]
  },
  {
   "cell_type": "code",
   "execution_count": 11,
   "metadata": {},
   "outputs": [
    {
     "name": "stdout",
     "output_type": "stream",
     "text": [
      "Enter string : Anushriiii\n",
      "{'A': 1, 'n': 1, 'u': 1, 's': 1, 'h': 1, 'r': 1, 'i': 4}\n"
     ]
    }
   ],
   "source": [
    "s = input(\"Enter string : \")\n",
    "dict={}\n",
    "for i in s:\n",
    "    if i in dict.keys() and i!=\" \":\n",
    "        dict[i]=dict[i]+1\n",
    "    else:\n",
    "        if i!=\" \":\n",
    "            dict[i]=1\n",
    "        \n",
    "print(dict)"
   ]
  },
  {
   "cell_type": "markdown",
   "metadata": {},
   "source": [
    "\n",
    "<b>Question 9 : Write a program that needs a string and displays the longest substring of the given string\n",
    "having just the consonants.</b>"
   ]
  },
  {
   "cell_type": "code",
   "execution_count": 12,
   "metadata": {},
   "outputs": [
    {
     "name": "stdout",
     "output_type": "stream",
     "text": [
      "Enter a string:Anushri\n",
      "Maximum length consonant substring is : shr with 3 characters\n"
     ]
    }
   ],
   "source": [
    "string = input(\"Enter a string:\")\n",
    "length = len(string)\n",
    "maxlength = 0\n",
    "maxsub =''              #empty string\n",
    "sub =''                 #empty string\n",
    "lensub = 0\n",
    "for a in range(length):\n",
    "   if string[a] in 'aeiou' or string[a] in 'AEIOU' :\n",
    "       maxsub = sub\n",
    "       maxlength = lensub\n",
    "       sub = ''\n",
    "       lensub = 0\n",
    "   else :\n",
    "       sub += string[a]\n",
    "       lensub = len(sub)\n",
    "   a += 1\n",
    "print (\"Maximum length consonant substring is :\" , maxsub, end = ' ')\n",
    "print (\"with\", maxlength, \"characters\")"
   ]
  },
  {
   "cell_type": "markdown",
   "metadata": {},
   "source": [
    "\n",
    "<b>Question 10 : Write a program that reads a line and prints its statistics like:\n",
    "Number of upper case letters :\n",
    "Number of alphabets:\n",
    "Number of Symbols:\n",
    "Number of digits:\n",
    "Number of lower case letters :</b>"
   ]
  },
  {
   "cell_type": "code",
   "execution_count": 13,
   "metadata": {},
   "outputs": [
    {
     "name": "stdout",
     "output_type": "stream",
     "text": [
      "Enter sentence:  Hey it's anushri123!\n",
      "Number of upper case letters :  1\n",
      "Number of alphabets:  13\n",
      "Number of Symbols:  2\n",
      "Number of digits:  3\n",
      "Number of lower case letters :  12\n"
     ]
    }
   ],
   "source": [
    "string = input('Enter sentence:  ')\n",
    "def stats(string):\n",
    "    upper,lower,alpha,symbol,number=0,0,0,0,0\n",
    "#     print(len(string))\n",
    "    for i in range(len(string)):\n",
    "        if string[i].isalpha():\n",
    "            alpha=alpha+1\n",
    "            if string[i].isupper():\n",
    "                upper=upper+1\n",
    "            else:\n",
    "                lower=lower+1\n",
    "        elif string[i].isdigit():\n",
    "            number = number+1\n",
    "        else:\n",
    "            symbol=symbol+1\n",
    "            if string[i]== ' ':\n",
    "                symbol=symbol-1\n",
    "                \n",
    "    print('Number of upper case letters : ', upper)\n",
    "    print('Number of alphabets: ', alpha)\n",
    "    print('Number of Symbols: ', symbol)\n",
    "    print('Number of digits: ', number)\n",
    "    print('Number of lower case letters : ', lower)\n",
    "    \n",
    "stats(string)"
   ]
  }
 ],
 "metadata": {
  "kernelspec": {
   "display_name": "Python 3",
   "language": "python",
   "name": "python3"
  },
  "language_info": {
   "codemirror_mode": {
    "name": "ipython",
    "version": 3
   },
   "file_extension": ".py",
   "mimetype": "text/x-python",
   "name": "python",
   "nbconvert_exporter": "python",
   "pygments_lexer": "ipython3",
   "version": "3.7.6"
  }
 },
 "nbformat": 4,
 "nbformat_minor": 4
}
